{
 "cells": [
  {
   "cell_type": "code",
   "execution_count": 98,
   "id": "ffd733e8",
   "metadata": {},
   "outputs": [
    {
     "name": "stdout",
     "output_type": "stream",
     "text": [
      "Requirement already satisfied: pysubgroup==0.7.3 in /home/larissa/.pyenv/versions/3.11.9/lib/python3.11/site-packages (0.7.3)\n",
      "Requirement already satisfied: pandas>=0.24.0 in /home/larissa/.pyenv/versions/3.11.9/lib/python3.11/site-packages (from pysubgroup==0.7.3) (2.2.3)\n",
      "Requirement already satisfied: scipy in /home/larissa/.pyenv/versions/3.11.9/lib/python3.11/site-packages (from pysubgroup==0.7.3) (1.11.2)\n",
      "Requirement already satisfied: numpy in /home/larissa/.pyenv/versions/3.11.9/lib/python3.11/site-packages (from pysubgroup==0.7.3) (1.26.0)\n",
      "Requirement already satisfied: matplotlib in /home/larissa/.pyenv/versions/3.11.9/lib/python3.11/site-packages (from pysubgroup==0.7.3) (3.8.0)\n",
      "Requirement already satisfied: python-dateutil>=2.8.2 in /home/larissa/.pyenv/versions/3.11.9/lib/python3.11/site-packages (from pandas>=0.24.0->pysubgroup==0.7.3) (2.8.2)\n",
      "Requirement already satisfied: pytz>=2020.1 in /home/larissa/.pyenv/versions/3.11.9/lib/python3.11/site-packages (from pandas>=0.24.0->pysubgroup==0.7.3) (2023.3)\n",
      "Requirement already satisfied: tzdata>=2022.7 in /home/larissa/.pyenv/versions/3.11.9/lib/python3.11/site-packages (from pandas>=0.24.0->pysubgroup==0.7.3) (2023.3)\n",
      "Requirement already satisfied: contourpy>=1.0.1 in /home/larissa/.pyenv/versions/3.11.9/lib/python3.11/site-packages (from matplotlib->pysubgroup==0.7.3) (1.1.1)\n",
      "Requirement already satisfied: cycler>=0.10 in /home/larissa/.pyenv/versions/3.11.9/lib/python3.11/site-packages (from matplotlib->pysubgroup==0.7.3) (0.12.1)\n",
      "Requirement already satisfied: fonttools>=4.22.0 in /home/larissa/.pyenv/versions/3.11.9/lib/python3.11/site-packages (from matplotlib->pysubgroup==0.7.3) (4.43.1)\n",
      "Requirement already satisfied: kiwisolver>=1.0.1 in /home/larissa/.pyenv/versions/3.11.9/lib/python3.11/site-packages (from matplotlib->pysubgroup==0.7.3) (1.4.5)\n",
      "Requirement already satisfied: packaging>=20.0 in /home/larissa/.pyenv/versions/3.11.9/lib/python3.11/site-packages (from matplotlib->pysubgroup==0.7.3) (24.2)\n",
      "Requirement already satisfied: pillow>=6.2.0 in /home/larissa/.pyenv/versions/3.11.9/lib/python3.11/site-packages (from matplotlib->pysubgroup==0.7.3) (11.1.0)\n",
      "Requirement already satisfied: pyparsing>=2.3.1 in /home/larissa/.pyenv/versions/3.11.9/lib/python3.11/site-packages (from matplotlib->pysubgroup==0.7.3) (3.1.1)\n",
      "Requirement already satisfied: six>=1.5 in /home/larissa/.pyenv/versions/3.11.9/lib/python3.11/site-packages (from python-dateutil>=2.8.2->pandas>=0.24.0->pysubgroup==0.7.3) (1.16.0)\n",
      "\n",
      "\u001b[1m[\u001b[0m\u001b[34;49mnotice\u001b[0m\u001b[1;39;49m]\u001b[0m\u001b[39;49m A new release of pip is available: \u001b[0m\u001b[31;49m25.0.1\u001b[0m\u001b[39;49m -> \u001b[0m\u001b[32;49m25.1.1\u001b[0m\n",
      "\u001b[1m[\u001b[0m\u001b[34;49mnotice\u001b[0m\u001b[1;39;49m]\u001b[0m\u001b[39;49m To update, run: \u001b[0m\u001b[32;49mpip install --upgrade pip\u001b[0m\n",
      "Note: you may need to restart the kernel to use updated packages.\n"
     ]
    }
   ],
   "source": [
    "pip install pysubgroup==0.7.3"
   ]
  },
  {
   "cell_type": "markdown",
   "id": "feef1fd6",
   "metadata": {},
   "source": [
    "# Preparando Dados Para Análise"
   ]
  },
  {
   "cell_type": "code",
   "execution_count": 99,
   "id": "b9c147ea",
   "metadata": {},
   "outputs": [],
   "source": [
    "import pandas as pd \n",
    "import pysubgroup as ps"
   ]
  },
  {
   "cell_type": "code",
   "execution_count": 100,
   "id": "b97658e8",
   "metadata": {},
   "outputs": [
    {
     "name": "stdout",
     "output_type": "stream",
     "text": [
      "BALANCE                       0\n",
      "CREDIT_LIMIT                  0\n",
      "PURCHASES                     0\n",
      "PURCHASES_FREQUENCY           0\n",
      "PURCHASES_TRX                 0\n",
      "ONEOFF_PURCHASES              0\n",
      "ONEOFF_PURCHASES_FREQUENCY    0\n",
      "dtype: int64\n",
      "(8949, 7)\n"
     ]
    }
   ],
   "source": [
    "df = pd.read_csv(\"dataset/discrete_data.csv\")\n",
    "print(df.isnull().sum())\n",
    "print(df.shape)"
   ]
  },
  {
   "cell_type": "markdown",
   "id": "945f71d4",
   "metadata": {},
   "source": [
    "# Análise de ONEOFF_PURCHASES"
   ]
  },
  {
   "cell_type": "code",
   "execution_count": 101,
   "id": "a54488ad",
   "metadata": {},
   "outputs": [],
   "source": [
    "target = ps.BinaryTarget(\"ONEOFF_PURCHASES\", \"médio\")\n",
    "\n",
    "attributes = [\n",
    "    \"BALANCE\",\n",
    "    \"CREDIT_LIMIT\",\n",
    "    \"PURCHASES\",\n",
    "    \"PURCHASES_FREQUENCY\",\n",
    "    \"PURCHASES_TRX\",\n",
    "    \"ONEOFF_PURCHASES_FREQUENCY\"\n",
    "]\n",
    "\n",
    "search_space = ps.create_selectors(df[attributes])\n",
    "\n",
    "qf = ps.WRAccQF() # Definindo a medida de interesse\n",
    "\n",
    "task = ps.SubgroupDiscoveryTask(\n",
    "    df,\n",
    "    target,\n",
    "    search_space,\n",
    "    result_set_size=7,\n",
    "    depth=3,\n",
    "    qf=qf\n",
    ")\n",
    "\n",
    "result_purchases = ps.BeamSearch().execute(task)"
   ]
  },
  {
   "cell_type": "code",
   "execution_count": 102,
   "id": "43aee69c",
   "metadata": {},
   "outputs": [],
   "source": [
    "# df_results = result.to_dataframe()\n",
    "# print(df_results.head())"
   ]
  },
  {
   "cell_type": "code",
   "execution_count": 103,
   "id": "1a0d46b7",
   "metadata": {},
   "outputs": [
    {
     "name": "stdout",
     "output_type": "stream",
     "text": [
      "\n",
      "Subgrupo #1\n",
      "Descrição: PURCHASES=='alto'\n",
      "Tamanho do subgrupo: 2238\n",
      "Positivos: 1714\n",
      "Target share: 1714/2238\n",
      "Qualidade (qualquer métrica usada): 0.1290\n",
      "\n",
      "Subgrupo #2\n",
      "Descrição: PURCHASES=='alto' AND PURCHASES_FREQUENCY=='alto'\n",
      "Tamanho do subgrupo: 1833\n",
      "Positivos: 1360\n",
      "Target share: 1360/1833\n",
      "Qualidade (qualquer métrica usada): 0.1007\n",
      "\n",
      "Subgrupo #3\n",
      "Descrição: PURCHASES=='alto' AND PURCHASES_TRX=='alta'\n",
      "Tamanho do subgrupo: 1397\n",
      "Positivos: 1134\n",
      "Target share: 1134/1397\n",
      "Qualidade (qualquer métrica usada): 0.0877\n",
      "\n",
      "Subgrupo #4\n",
      "Descrição: PURCHASES_TRX=='alta'\n",
      "Tamanho do subgrupo: 1740\n",
      "Positivos: 1183\n",
      "Target share: 1183/1740\n",
      "Qualidade (qualquer métrica usada): 0.0836\n",
      "\n",
      "Subgrupo #5\n",
      "Descrição: PURCHASES=='alto' AND PURCHASES_FREQUENCY=='alto' AND PURCHASES_TRX=='alta'\n",
      "Tamanho do subgrupo: 1339\n",
      "Positivos: 1080\n",
      "Target share: 1080/1339\n",
      "Qualidade (qualquer métrica usada): 0.0833\n",
      "\n",
      "Subgrupo #6\n",
      "Descrição: PURCHASES_FREQUENCY=='alto' AND PURCHASES_TRX=='alta'\n",
      "Tamanho do subgrupo: 1666\n",
      "Positivos: 1122\n",
      "Target share: 1122/1666\n",
      "Qualidade (qualquer métrica usada): 0.0788\n",
      "\n",
      "Subgrupo #7\n",
      "Descrição: ONEOFF_PURCHASES_FREQUENCY=='alto'\n",
      "Tamanho do subgrupo: 1108\n",
      "Positivos: 965\n",
      "Target share: 965/1108\n",
      "Qualidade (qualquer métrica usada): 0.0769\n"
     ]
    }
   ],
   "source": [
    "for i, (quality, description, stats) in enumerate(result_purchases.results):\n",
    "    print(f\"\\nSubgrupo #{i+1}\")\n",
    "    print(f\"Descrição: {description}\")\n",
    "    print(f\"Tamanho do subgrupo: {stats.size_sg}\")\n",
    "    print(f\"Positivos: {stats.positives_count}\")\n",
    "    print(f\"Target share: {stats.positives_count}/{stats.size_sg}\")\n",
    "    print(f\"Qualidade (qualquer métrica usada): {quality:.4f}\")"
   ]
  },
  {
   "cell_type": "code",
   "execution_count": 104,
   "id": "2e48c917",
   "metadata": {},
   "outputs": [],
   "source": [
    "target = ps.BinaryTarget(\"ONEOFF_PURCHASES\", \"muito baixo\")\n",
    "\n",
    "attributes = [\n",
    "    \"BALANCE\",\n",
    "    \"CREDIT_LIMIT\",\n",
    "    \"PURCHASES\",\n",
    "    \"PURCHASES_FREQUENCY\",\n",
    "    \"PURCHASES_TRX\",\n",
    "    \"ONEOFF_PURCHASES_FREQUENCY\"\n",
    "]\n",
    "\n",
    "search_space = ps.create_selectors(df[attributes])\n",
    "\n",
    "qf = ps.WRAccQF() # Definindo a medida de interesse\n",
    "\n",
    "task = ps.SubgroupDiscoveryTask(\n",
    "    df,\n",
    "    target,\n",
    "    search_space,\n",
    "    result_set_size=7,\n",
    "    depth=3,\n",
    "    qf=qf\n",
    ")\n",
    "\n",
    "result_purchases_2 = ps.BeamSearch().execute(task)"
   ]
  },
  {
   "cell_type": "code",
   "execution_count": 105,
   "id": "1d02ccef",
   "metadata": {},
   "outputs": [
    {
     "name": "stdout",
     "output_type": "stream",
     "text": [
      "\n",
      "Subgrupo #1\n",
      "Descrição: PURCHASES=='muito baixo'\n",
      "Tamanho do subgrupo: 2237\n",
      "Positivos: 2234\n",
      "Target share: 2234/2237\n",
      "Qualidade (qualquer métrica usada): 0.1246\n",
      "\n",
      "Subgrupo #2\n",
      "Descrição: ONEOFF_PURCHASES_FREQUENCY=='baixo' AND PURCHASES=='muito baixo'\n",
      "Tamanho do subgrupo: 2232\n",
      "Positivos: 2229\n",
      "Target share: 2229/2232\n",
      "Qualidade (qualquer métrica usada): 0.1244\n",
      "\n",
      "Subgrupo #3\n",
      "Descrição: PURCHASES=='muito baixo' AND PURCHASES_TRX=='nenhuma'\n",
      "Tamanho do subgrupo: 2227\n",
      "Positivos: 2224\n",
      "Target share: 2224/2227\n",
      "Qualidade (qualquer métrica usada): 0.1241\n",
      "\n",
      "Subgrupo #4\n",
      "Descrição: ONEOFF_PURCHASES_FREQUENCY=='baixo' AND PURCHASES=='muito baixo' AND PURCHASES_TRX=='nenhuma'\n",
      "Tamanho do subgrupo: 2226\n",
      "Positivos: 2223\n",
      "Target share: 2223/2226\n",
      "Qualidade (qualquer métrica usada): 0.1240\n",
      "\n",
      "Subgrupo #5\n",
      "Descrição: ONEOFF_PURCHASES_FREQUENCY=='baixo'\n",
      "Tamanho do subgrupo: 6718\n",
      "Positivos: 4469\n",
      "Target share: 4469/6718\n",
      "Qualidade (qualquer métrica usada): 0.1240\n",
      "\n",
      "Subgrupo #6\n",
      "Descrição: PURCHASES=='muito baixo' AND PURCHASES_FREQUENCY=='baixo'\n",
      "Tamanho do subgrupo: 2218\n",
      "Positivos: 2215\n",
      "Target share: 2215/2218\n",
      "Qualidade (qualquer métrica usada): 0.1236\n",
      "\n",
      "Subgrupo #7\n",
      "Descrição: PURCHASES=='muito baixo' AND PURCHASES_FREQUENCY=='baixo' AND PURCHASES_TRX=='nenhuma'\n",
      "Tamanho do subgrupo: 2218\n",
      "Positivos: 2215\n",
      "Target share: 2215/2218\n",
      "Qualidade (qualquer métrica usada): 0.1236\n"
     ]
    }
   ],
   "source": [
    "for i, (quality, description, stats) in enumerate(result_purchases_2.results):\n",
    "    print(f\"\\nSubgrupo #{i+1}\")\n",
    "    print(f\"Descrição: {description}\")\n",
    "    print(f\"Tamanho do subgrupo: {stats.size_sg}\")\n",
    "    print(f\"Positivos: {stats.positives_count}\")\n",
    "    print(f\"Target share: {stats.positives_count}/{stats.size_sg}\")\n",
    "    print(f\"Qualidade (qualquer métrica usada): {quality:.4f}\")"
   ]
  }
 ],
 "metadata": {
  "kernelspec": {
   "display_name": "3.11.9",
   "language": "python",
   "name": "python3"
  },
  "language_info": {
   "codemirror_mode": {
    "name": "ipython",
    "version": 3
   },
   "file_extension": ".py",
   "mimetype": "text/x-python",
   "name": "python",
   "nbconvert_exporter": "python",
   "pygments_lexer": "ipython3",
   "version": "3.11.9"
  }
 },
 "nbformat": 4,
 "nbformat_minor": 5
}
