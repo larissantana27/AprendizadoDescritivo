{
 "cells": [
  {
   "cell_type": "code",
   "execution_count": 78,
   "id": "498298e2",
   "metadata": {},
   "outputs": [],
   "source": [
    "import pandas as pd \n"
   ]
  },
  {
   "cell_type": "markdown",
   "id": "a09e0df9",
   "metadata": {},
   "source": [
    "Preparo da base de dados"
   ]
  },
  {
   "cell_type": "code",
   "execution_count": 79,
   "id": "1a2c42a9",
   "metadata": {},
   "outputs": [
    {
     "name": "stdout",
     "output_type": "stream",
     "text": [
      "CUST_ID                               0\n",
      "BALANCE                               0\n",
      "BALANCE_FREQUENCY                     0\n",
      "PURCHASES                             0\n",
      "ONEOFF_PURCHASES                      0\n",
      "INSTALLMENTS_PURCHASES                0\n",
      "CASH_ADVANCE                          0\n",
      "PURCHASES_FREQUENCY                   0\n",
      "ONEOFF_PURCHASES_FREQUENCY            0\n",
      "PURCHASES_INSTALLMENTS_FREQUENCY      0\n",
      "CASH_ADVANCE_FREQUENCY                0\n",
      "CASH_ADVANCE_TRX                      0\n",
      "PURCHASES_TRX                         0\n",
      "CREDIT_LIMIT                          1\n",
      "PAYMENTS                              0\n",
      "MINIMUM_PAYMENTS                    313\n",
      "PRC_FULL_PAYMENT                      0\n",
      "TENURE                                0\n",
      "dtype: int64\n",
      "(8950, 18)\n"
     ]
    }
   ],
   "source": [
    "df = pd.read_csv(\"dataset/data.csv\")\n",
    "print(df.isnull().sum())\n",
    "print(df.shape)"
   ]
  },
  {
   "cell_type": "markdown",
   "id": "b459d594",
   "metadata": {},
   "source": [
    "Mantendo apenas colunas que selecionamos para analisar"
   ]
  },
  {
   "cell_type": "code",
   "execution_count": 80,
   "id": "51ae648a",
   "metadata": {},
   "outputs": [
    {
     "name": "stdout",
     "output_type": "stream",
     "text": [
      "BALANCE                       0\n",
      "CREDIT_LIMIT                  1\n",
      "PURCHASES                     0\n",
      "PURCHASES_FREQUENCY           0\n",
      "PURCHASES_TRX                 0\n",
      "ONEOFF_PURCHASES              0\n",
      "ONEOFF_PURCHASES_FREQUENCY    0\n",
      "dtype: int64\n",
      "(8950, 7)\n"
     ]
    }
   ],
   "source": [
    "colunas_selecionadas = [\n",
    "    'BALANCE',                   # Samuel\n",
    "    'CREDIT_LIMIT',              # João\n",
    "    'PURCHASES',                  # Amanda\n",
    "    'PURCHASES_FREQUENCY',       # Amanda\n",
    "    'PURCHASES_TRX',             # Gabriel\n",
    "    'ONEOFF_PURCHASES',           # Larissa\n",
    "    'ONEOFF_PURCHASES_FREQUENCY' # Larissa\n",
    "]\n",
    "\n",
    "# Filtrando apenas essas colunas\n",
    "df_filtrado = df[colunas_selecionadas].copy()\n",
    "\n",
    "# Exibindo as primeiras linhas do novo DataFrame\n",
    "print(df_filtrado.isnull().sum())\n",
    "print(df_filtrado.shape)"
   ]
  },
  {
   "cell_type": "markdown",
   "id": "07609742",
   "metadata": {},
   "source": [
    "Limpando linha com valor nulo"
   ]
  },
  {
   "cell_type": "code",
   "execution_count": 81,
   "id": "56189d64",
   "metadata": {},
   "outputs": [
    {
     "name": "stdout",
     "output_type": "stream",
     "text": [
      "BALANCE                       0\n",
      "CREDIT_LIMIT                  0\n",
      "PURCHASES                     0\n",
      "PURCHASES_FREQUENCY           0\n",
      "PURCHASES_TRX                 0\n",
      "ONEOFF_PURCHASES              0\n",
      "ONEOFF_PURCHASES_FREQUENCY    0\n",
      "dtype: int64\n",
      "(8949, 7)\n"
     ]
    }
   ],
   "source": [
    "df_filtrado.dropna(inplace=True)\n",
    "\n",
    "print(df_filtrado.isnull().sum())\n",
    "print(df_filtrado.shape)"
   ]
  },
  {
   "cell_type": "markdown",
   "id": "f566c54d",
   "metadata": {},
   "source": [
    "Discretização dos dados\n",
    "\n",
    "[\n",
    "  {\n",
    "    \"Data Type\": \"float64\",\n",
    "    \"Column\": \"BALANCE\",\n",
    "    \"Description\": \"Balance amount left in their account to make purchases\",\n",
    "    \"Range\": \"[0, 19043.14]\",\n",
    "    \"Range Explanation\": \"\"\n",
    "  },\n",
    "  {\n",
    "    \"Data Type\": \"float64\",\n",
    "    \"Column\": \"CREDIT_LIMIT\",\n",
    "    \"Description\": \"Limit of Credit Card for user\",\n",
    "    \"Range\": \"[0, 30000.00]\",\n",
    "    \"Range Explanation\": \"\"\n",
    "  },\n",
    "  {\n",
    "    \"Data Type\": \"float64\",\n",
    "    \"Column\": \"ONEOFF_PURCHASES\",\n",
    "    \"Description\": \"Maximum purchase amount done in one-go\",\n",
    "    \"Range\": \"[0, 40761.25]\",\n",
    "    \"Range Explanation\": \"\"\n",
    "  },\n",
    "  {\n",
    "    \"Data Type\": \"float64\",\n",
    "    \"Column\": \"ONEOFF_PURCHASES_FREQUENCY\",\n",
    "    \"Description\": \"How frequently Purchases are happening in one-go\",\n",
    "    \"Range\": \"[0, 1.00]\",\n",
    "    \"Range Explanation\": \"Frequently Purchased? (1=Y, 0=N)\"\n",
    "  },\n",
    "  {\n",
    "    \"Data Type\": \"float64\",\n",
    "    \"Column\": \"PURCHASES\",\n",
    "    \"Description\": \"Amount of purchases made from account\",\n",
    "    \"Range\": \"[0, 49039.57]\",\n",
    "    \"Range Explanation\": \"\"\n",
    "  },\n",
    "  {\n",
    "    \"Data Type\": \"float64\",\n",
    "    \"Column\": \"PURCHASES_FREQUENCY\",\n",
    "    \"Description\": \"How frequently the Purchases are being made\",\n",
    "    \"Range\": \"[0, 1.00]\",\n",
    "    \"Range Explanation\": \"Frequently Purchased? (1=Y, 0=N)\"\n",
    "  },\n",
    "  {\n",
    "    \"Data Type\": \"int64\",\n",
    "    \"Column\": \"PURCHASES_TRX\",\n",
    "    \"Description\": \"Numbe of purchase transactions made\",\n",
    "    \"Range\": \"[0, 358]\",\n",
    "    \"Range Explanation\": \"\"\n",
    "  },\n",
    "]"
   ]
  },
  {
   "cell_type": "code",
   "execution_count": null,
   "id": "99074198",
   "metadata": {},
   "outputs": [],
   "source": [
    "df_disc = df_filtrado.copy()\n",
    "\n",
    "min_limit = df_filtrado[\"CREDIT_LIMIT\"].min()\n",
    "max_limit = df_filtrado[\"CREDIT_LIMIT\"].max()\n",
    "\n",
    "credit_limit_bins = [min_limit - 1, 1500, 5000, 15000, max_limit + 1]\n",
    "credit_limit_labels = [\"baixo\", \"médio\", \"alto\", \"muito alto\"]\n",
    "\n",
    "# BALANCE (4 faixas)\n",
    "df_disc[\"BALANCE\"] = pd.qcut(\n",
    "    df_filtrado[\"BALANCE\"], q=4, labels=[\"muito baixo\", \"baixo\", \"médio\", \"alto\"]\n",
    ")\n",
    "\n",
    "# CREDIT_LIMIT (4 faixas manuais)\n",
    "df_disc[\"CREDIT_LIMIT\"] = pd.cut(\n",
    "    df_filtrado[\"CREDIT_LIMIT\"],\n",
    "    bins=credit_limit_bins,\n",
    "    labels=credit_limit_labels,\n",
    "    include_lowest=True,\n",
    ")\n",
    "\n",
    "# PURCHASES (4 faixas) — cuidado: df_filtrado talvez não tenha essa coluna\n",
    "df_disc[\"PURCHASES\"] = pd.qcut(\n",
    "    df[\"PURCHASES\"], q=4, labels=[\"muito baixo\", \"baixo\", \"médio\", \"alto\"]\n",
    ")\n",
    "\n",
    "# PURCHASES_FREQUENCY (3 faixas)\n",
    "df_disc[\"PURCHASES_FREQUENCY\"] = pd.cut(\n",
    "    df_filtrado[\"PURCHASES_FREQUENCY\"],\n",
    "    bins=[-0.01, 0.33, 0.66, 1],\n",
    "    labels=[\"baixo\", \"médio\", \"alto\"],\n",
    ")\n",
    "\n",
    "# Aplica qcut sem labels primeiro para ver quantos bins são gerados\n",
    "temp_bins = pd.qcut(df_filtrado[\"PURCHASES_TRX\"], q=5, duplicates=\"drop\")\n",
    "num_bins = temp_bins.cat.categories.size\n",
    "\n",
    "# Define os labels dinamicamente\n",
    "trx_labels = [\"nenhuma\", \"baixa\", \"moderada\", \"alta\", \"muito alta\"][:num_bins]\n",
    "\n",
    "# Aplica com os labels ajustados\n",
    "df_disc[\"PURCHASES_TRX\"] = pd.qcut(\n",
    "    df_filtrado[\"PURCHASES_TRX\"],\n",
    "    q=5,\n",
    "    labels=trx_labels,\n",
    "    duplicates=\"drop\"\n",
    ")\n",
    "\n",
    "# Gera temporariamente os bins para saber quantos foram criados de fato\n",
    "temp_bins = pd.qcut(df[\"ONEOFF_PURCHASES\"], q=4, duplicates='drop')\n",
    "num_bins = temp_bins.cat.categories.size\n",
    "\n",
    "# Ajusta os labels conforme a quantidade real de bins\n",
    "labels = [\"muito baixo\", \"baixo\", \"médio\", \"alto\"][:num_bins]\n",
    "\n",
    "# Aplica com os labels corretos\n",
    "df_disc[\"ONEOFF_PURCHASES\"] = pd.qcut(\n",
    "    df[\"ONEOFF_PURCHASES\"],\n",
    "    q=4,\n",
    "    labels=labels,\n",
    "    duplicates='drop'\n",
    ")\n",
    "\n",
    "# ONEOFF_PURCHASES_FREQUENCY (3 faixas)\n",
    "df_disc[\"ONEOFF_PURCHASES_FREQUENCY\"] = pd.cut(\n",
    "    df_filtrado[\"ONEOFF_PURCHASES_FREQUENCY\"],\n",
    "    bins=[-0.01, 0.33, 0.66, 1],\n",
    "    labels=[\"baixo\", \"médio\", \"alto\"],\n",
    ")\n"
   ]
  },
  {
   "cell_type": "code",
   "execution_count": 83,
   "id": "76dceb15",
   "metadata": {},
   "outputs": [
    {
     "name": "stdout",
     "output_type": "stream",
     "text": [
      "       BALANCE CREDIT_LIMIT    PURCHASES PURCHASES_FREQUENCY PURCHASES_TRX  \\\n",
      "0  muito baixo        baixo        baixo               baixo       nenhuma   \n",
      "1         alto         alto  muito baixo               baixo       nenhuma   \n",
      "2         alto         alto        médio                alto      moderada   \n",
      "3        médio         alto         alto               baixo       nenhuma   \n",
      "4        baixo        baixo  muito baixo               baixo       nenhuma   \n",
      "5        médio        médio         alto                alto         baixa   \n",
      "6        baixo         alto         alto                alto          alta   \n",
      "7        médio        médio        médio                alto      moderada   \n",
      "8        médio         alto        médio               médio         baixa   \n",
      "9        baixo         alto         alto               baixo       nenhuma   \n",
      "\n",
      "  ONEOFF_PURCHASES ONEOFF_PURCHASES_FREQUENCY  \n",
      "0      muito baixo                      baixo  \n",
      "1      muito baixo                      baixo  \n",
      "2            médio                       alto  \n",
      "3            médio                      baixo  \n",
      "4      muito baixo                      baixo  \n",
      "5      muito baixo                      baixo  \n",
      "6            médio                       alto  \n",
      "7      muito baixo                      baixo  \n",
      "8            médio                      baixo  \n",
      "9            médio                      baixo  \n"
     ]
    }
   ],
   "source": [
    "# Exibir as 10 primeiras linhas da base discretizada\n",
    "print(df_disc.head(10))"
   ]
  },
  {
   "cell_type": "code",
   "execution_count": 84,
   "id": "cba53fbe",
   "metadata": {},
   "outputs": [
    {
     "name": "stdout",
     "output_type": "stream",
     "text": [
      "\n",
      "Coluna: BALANCE\n",
      "BALANCE\n",
      "muito baixo    2238\n",
      "baixo          2237\n",
      "médio          2237\n",
      "alto           2237\n",
      "Name: count, dtype: int64\n",
      "\n",
      "Coluna: CREDIT_LIMIT\n",
      "CREDIT_LIMIT\n",
      "médio         3817\n",
      "alto          2746\n",
      "baixo         2234\n",
      "muito alto     152\n",
      "Name: count, dtype: int64\n",
      "\n",
      "Coluna: PURCHASES\n",
      "PURCHASES\n",
      "alto           2238\n",
      "muito baixo    2237\n",
      "baixo          2237\n",
      "médio          2237\n",
      "Name: count, dtype: int64\n",
      "\n",
      "Coluna: PURCHASES_FREQUENCY\n",
      "PURCHASES_FREQUENCY\n",
      "alto     3752\n",
      "baixo    3689\n",
      "médio    1508\n",
      "Name: count, dtype: int64\n",
      "\n",
      "Coluna: PURCHASES_TRX\n",
      "PURCHASES_TRX\n",
      "nenhuma     3688\n",
      "baixa       1847\n",
      "alta        1740\n",
      "moderada    1674\n",
      "Name: count, dtype: int64\n",
      "\n",
      "Coluna: ONEOFF_PURCHASES\n",
      "ONEOFF_PURCHASES\n",
      "muito baixo    4475\n",
      "médio          2238\n",
      "baixo          2236\n",
      "Name: count, dtype: int64\n",
      "\n",
      "Coluna: ONEOFF_PURCHASES_FREQUENCY\n",
      "ONEOFF_PURCHASES_FREQUENCY\n",
      "baixo    6718\n",
      "médio    1123\n",
      "alto     1108\n",
      "Name: count, dtype: int64\n"
     ]
    }
   ],
   "source": [
    "# Ver tipos de dados e valores únicos por coluna discretizada\n",
    "for col in df_disc.columns:\n",
    "    print(f\"\\nColuna: {col}\")\n",
    "    print(df_disc[col].value_counts())"
   ]
  },
  {
   "cell_type": "code",
   "execution_count": null,
   "id": "1ac55054",
   "metadata": {},
   "outputs": [],
   "source": [
    "df_disc.to_csv(\"dataset/discrete_data.csv\", index=False)"
   ]
  }
 ],
 "metadata": {
  "kernelspec": {
   "display_name": "3.11.9",
   "language": "python",
   "name": "python3"
  },
  "language_info": {
   "codemirror_mode": {
    "name": "ipython",
    "version": 3
   },
   "file_extension": ".py",
   "mimetype": "text/x-python",
   "name": "python",
   "nbconvert_exporter": "python",
   "pygments_lexer": "ipython3",
   "version": "3.11.9"
  }
 },
 "nbformat": 4,
 "nbformat_minor": 5
}
